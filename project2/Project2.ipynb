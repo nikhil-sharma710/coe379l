{
 "cells": [
  {
   "cell_type": "markdown",
   "id": "2a8a946d-50b0-45c2-86ce-ae7deaf52b7f",
   "metadata": {},
   "source": [
    "# Project 2 - Breast Cancer Recurrence Predictor"
   ]
  },
  {
   "cell_type": "markdown",
   "id": "9508ed11-7f55-4d7a-a1b1-f29e1115a281",
   "metadata": {},
   "source": [
    "## Part 1"
   ]
  },
  {
   "cell_type": "code",
   "execution_count": 527,
   "id": "25a98058-ef7f-41ec-a1c2-4c91d6b59476",
   "metadata": {},
   "outputs": [],
   "source": [
    "import pandas as pd\n",
    "import numpy as np\n",
    "import seaborn as sns\n",
    "import matplotlib.pyplot as plt"
   ]
  },
  {
   "cell_type": "code",
   "execution_count": 528,
   "id": "d206c773-27af-4094-bac4-9639d1314920",
   "metadata": {},
   "outputs": [
    {
     "data": {
      "text/html": [
       "<div>\n",
       "<style scoped>\n",
       "    .dataframe tbody tr th:only-of-type {\n",
       "        vertical-align: middle;\n",
       "    }\n",
       "\n",
       "    .dataframe tbody tr th {\n",
       "        vertical-align: top;\n",
       "    }\n",
       "\n",
       "    .dataframe thead th {\n",
       "        text-align: right;\n",
       "    }\n",
       "</style>\n",
       "<table border=\"1\" class=\"dataframe\">\n",
       "  <thead>\n",
       "    <tr style=\"text-align: right;\">\n",
       "      <th></th>\n",
       "      <th>class</th>\n",
       "      <th>age</th>\n",
       "      <th>menopause</th>\n",
       "      <th>tumor-size</th>\n",
       "      <th>inv-nodes</th>\n",
       "      <th>node-caps</th>\n",
       "      <th>deg-malig</th>\n",
       "      <th>breast</th>\n",
       "      <th>breast-quad</th>\n",
       "      <th>irradiat</th>\n",
       "    </tr>\n",
       "  </thead>\n",
       "  <tbody>\n",
       "    <tr>\n",
       "      <th>0</th>\n",
       "      <td>no-recurrence-events</td>\n",
       "      <td>30-39</td>\n",
       "      <td>premeno</td>\n",
       "      <td>30-34</td>\n",
       "      <td>0-2</td>\n",
       "      <td>no</td>\n",
       "      <td>3</td>\n",
       "      <td>left</td>\n",
       "      <td>left_low</td>\n",
       "      <td>no</td>\n",
       "    </tr>\n",
       "    <tr>\n",
       "      <th>1</th>\n",
       "      <td>no-recurrence-events</td>\n",
       "      <td>40-49</td>\n",
       "      <td>premeno</td>\n",
       "      <td>20-24</td>\n",
       "      <td>0-2</td>\n",
       "      <td>no</td>\n",
       "      <td>2</td>\n",
       "      <td>right</td>\n",
       "      <td>right_up</td>\n",
       "      <td>no</td>\n",
       "    </tr>\n",
       "    <tr>\n",
       "      <th>2</th>\n",
       "      <td>no-recurrence-events</td>\n",
       "      <td>40-49</td>\n",
       "      <td>premeno</td>\n",
       "      <td>20-24</td>\n",
       "      <td>0-2</td>\n",
       "      <td>no</td>\n",
       "      <td>2</td>\n",
       "      <td>left</td>\n",
       "      <td>left_low</td>\n",
       "      <td>no</td>\n",
       "    </tr>\n",
       "    <tr>\n",
       "      <th>3</th>\n",
       "      <td>no-recurrence-events</td>\n",
       "      <td>60-69</td>\n",
       "      <td>ge40</td>\n",
       "      <td>15-19</td>\n",
       "      <td>0-2</td>\n",
       "      <td>no</td>\n",
       "      <td>2</td>\n",
       "      <td>right</td>\n",
       "      <td>left_up</td>\n",
       "      <td>no</td>\n",
       "    </tr>\n",
       "    <tr>\n",
       "      <th>4</th>\n",
       "      <td>no-recurrence-events</td>\n",
       "      <td>40-49</td>\n",
       "      <td>premeno</td>\n",
       "      <td>0-4</td>\n",
       "      <td>0-2</td>\n",
       "      <td>no</td>\n",
       "      <td>2</td>\n",
       "      <td>right</td>\n",
       "      <td>right_low</td>\n",
       "      <td>no</td>\n",
       "    </tr>\n",
       "    <tr>\n",
       "      <th>...</th>\n",
       "      <td>...</td>\n",
       "      <td>...</td>\n",
       "      <td>...</td>\n",
       "      <td>...</td>\n",
       "      <td>...</td>\n",
       "      <td>...</td>\n",
       "      <td>...</td>\n",
       "      <td>...</td>\n",
       "      <td>...</td>\n",
       "      <td>...</td>\n",
       "    </tr>\n",
       "    <tr>\n",
       "      <th>281</th>\n",
       "      <td>recurrence-events</td>\n",
       "      <td>30-39</td>\n",
       "      <td>premeno</td>\n",
       "      <td>30-34</td>\n",
       "      <td>0-2</td>\n",
       "      <td>no</td>\n",
       "      <td>2</td>\n",
       "      <td>left</td>\n",
       "      <td>left_up</td>\n",
       "      <td>no</td>\n",
       "    </tr>\n",
       "    <tr>\n",
       "      <th>282</th>\n",
       "      <td>recurrence-events</td>\n",
       "      <td>30-39</td>\n",
       "      <td>premeno</td>\n",
       "      <td>20-24</td>\n",
       "      <td>0-2</td>\n",
       "      <td>no</td>\n",
       "      <td>3</td>\n",
       "      <td>left</td>\n",
       "      <td>left_up</td>\n",
       "      <td>yes</td>\n",
       "    </tr>\n",
       "    <tr>\n",
       "      <th>283</th>\n",
       "      <td>recurrence-events</td>\n",
       "      <td>60-69</td>\n",
       "      <td>ge40</td>\n",
       "      <td>20-24</td>\n",
       "      <td>0-2</td>\n",
       "      <td>no</td>\n",
       "      <td>1</td>\n",
       "      <td>right</td>\n",
       "      <td>left_up</td>\n",
       "      <td>no</td>\n",
       "    </tr>\n",
       "    <tr>\n",
       "      <th>284</th>\n",
       "      <td>recurrence-events</td>\n",
       "      <td>40-49</td>\n",
       "      <td>ge40</td>\n",
       "      <td>30-34</td>\n",
       "      <td>3-5</td>\n",
       "      <td>no</td>\n",
       "      <td>3</td>\n",
       "      <td>left</td>\n",
       "      <td>left_low</td>\n",
       "      <td>no</td>\n",
       "    </tr>\n",
       "    <tr>\n",
       "      <th>285</th>\n",
       "      <td>recurrence-events</td>\n",
       "      <td>50-59</td>\n",
       "      <td>ge40</td>\n",
       "      <td>30-34</td>\n",
       "      <td>3-5</td>\n",
       "      <td>no</td>\n",
       "      <td>3</td>\n",
       "      <td>left</td>\n",
       "      <td>left_low</td>\n",
       "      <td>no</td>\n",
       "    </tr>\n",
       "  </tbody>\n",
       "</table>\n",
       "<p>286 rows × 10 columns</p>\n",
       "</div>"
      ],
      "text/plain": [
       "                    class    age menopause tumor-size inv-nodes node-caps  \\\n",
       "0    no-recurrence-events  30-39   premeno      30-34       0-2        no   \n",
       "1    no-recurrence-events  40-49   premeno      20-24       0-2        no   \n",
       "2    no-recurrence-events  40-49   premeno      20-24       0-2        no   \n",
       "3    no-recurrence-events  60-69      ge40      15-19       0-2        no   \n",
       "4    no-recurrence-events  40-49   premeno        0-4       0-2        no   \n",
       "..                    ...    ...       ...        ...       ...       ...   \n",
       "281     recurrence-events  30-39   premeno      30-34       0-2        no   \n",
       "282     recurrence-events  30-39   premeno      20-24       0-2        no   \n",
       "283     recurrence-events  60-69      ge40      20-24       0-2        no   \n",
       "284     recurrence-events  40-49      ge40      30-34       3-5        no   \n",
       "285     recurrence-events  50-59      ge40      30-34       3-5        no   \n",
       "\n",
       "     deg-malig breast breast-quad irradiat  \n",
       "0            3   left    left_low       no  \n",
       "1            2  right    right_up       no  \n",
       "2            2   left    left_low       no  \n",
       "3            2  right     left_up       no  \n",
       "4            2  right   right_low       no  \n",
       "..         ...    ...         ...      ...  \n",
       "281          2   left     left_up       no  \n",
       "282          3   left     left_up      yes  \n",
       "283          1  right     left_up       no  \n",
       "284          3   left    left_low       no  \n",
       "285          3   left    left_low       no  \n",
       "\n",
       "[286 rows x 10 columns]"
      ]
     },
     "execution_count": 528,
     "metadata": {},
     "output_type": "execute_result"
    }
   ],
   "source": [
    "bc = pd.read_csv('project2.csv')\n",
    "bc"
   ]
  },
  {
   "cell_type": "code",
   "execution_count": 529,
   "id": "d75bafc2-afc8-4afa-a6c3-ac46a5b968da",
   "metadata": {},
   "outputs": [
    {
     "name": "stdout",
     "output_type": "stream",
     "text": [
      "The shape of the dataset is (286, 10)\n",
      "The size of the dataset is 2860\n"
     ]
    }
   ],
   "source": [
    "print('The shape of the dataset is', bc.shape)\n",
    "print('The size of the dataset is', bc.size)"
   ]
  },
  {
   "cell_type": "code",
   "execution_count": 530,
   "id": "326aef24-6e33-4af8-bfad-37e29e8e6cf8",
   "metadata": {},
   "outputs": [
    {
     "name": "stdout",
     "output_type": "stream",
     "text": [
      "<class 'pandas.core.frame.DataFrame'>\n",
      "RangeIndex: 286 entries, 0 to 285\n",
      "Data columns (total 10 columns):\n",
      " #   Column       Non-Null Count  Dtype \n",
      "---  ------       --------------  ----- \n",
      " 0   class        286 non-null    object\n",
      " 1   age          286 non-null    object\n",
      " 2   menopause    286 non-null    object\n",
      " 3   tumor-size   286 non-null    object\n",
      " 4   inv-nodes    286 non-null    object\n",
      " 5   node-caps    286 non-null    object\n",
      " 6   deg-malig    286 non-null    int64 \n",
      " 7   breast       286 non-null    object\n",
      " 8   breast-quad  286 non-null    object\n",
      " 9   irradiat     286 non-null    object\n",
      "dtypes: int64(1), object(9)\n",
      "memory usage: 22.5+ KB\n"
     ]
    }
   ],
   "source": [
    "bc.info()"
   ]
  },
  {
   "cell_type": "markdown",
   "id": "45dc7ca8-d2fd-444b-bce5-33dfde994097",
   "metadata": {},
   "source": [
    "Now, we will check for duplicated entries and delete all of them:"
   ]
  },
  {
   "cell_type": "code",
   "execution_count": 531,
   "id": "8f763e61-5f60-408d-ab59-5a290a34ec28",
   "metadata": {},
   "outputs": [
    {
     "data": {
      "text/plain": [
       "14"
      ]
     },
     "execution_count": 531,
     "metadata": {},
     "output_type": "execute_result"
    }
   ],
   "source": [
    "bc.duplicated().sum()"
   ]
  },
  {
   "cell_type": "code",
   "execution_count": 532,
   "id": "753e47d0-4b5e-4b4d-b057-0a2fe8c3c345",
   "metadata": {},
   "outputs": [
    {
     "data": {
      "text/plain": [
       "0"
      ]
     },
     "execution_count": 532,
     "metadata": {},
     "output_type": "execute_result"
    }
   ],
   "source": [
    "bc.drop_duplicates(inplace=True, ignore_index=True)\n",
    "bc.duplicated().sum()"
   ]
  },
  {
   "cell_type": "markdown",
   "id": "98fe61ab-e823-4ff4-ba56-8c71dca19912",
   "metadata": {},
   "source": [
    "We will now take a deeper look into each variable to see the unique values and potential null or missing values."
   ]
  },
  {
   "cell_type": "code",
   "execution_count": 533,
   "id": "e642e7e2-9a45-44e6-a6f4-f200a2dac703",
   "metadata": {},
   "outputs": [
    {
     "name": "stdout",
     "output_type": "stream",
     "text": [
      "class\n",
      "\n",
      "Unique values: ['no-recurrence-events' 'recurrence-events']\n",
      "Null values: 0\n",
      "Missing values: 0\n"
     ]
    }
   ],
   "source": [
    "print('class\\n')\n",
    "print('Unique values:', bc['class'].unique())\n",
    "print('Null values:', bc['class'].isnull().sum())\n",
    "print('Missing values:', len(bc[bc['class'] == '?']))"
   ]
  },
  {
   "cell_type": "code",
   "execution_count": 534,
   "id": "4a813541-55b2-456b-8215-f8361369b789",
   "metadata": {},
   "outputs": [
    {
     "name": "stdout",
     "output_type": "stream",
     "text": [
      "age\n",
      "\n",
      "Unique values: ['30-39' '40-49' '60-69' '50-59' '70-79' '20-29']\n",
      "Null values: 0\n",
      "Missing values: 0\n"
     ]
    }
   ],
   "source": [
    "print('age\\n')\n",
    "print('Unique values:', bc['age'].unique())\n",
    "print('Null values:', bc['age'].isnull().sum())\n",
    "print('Missing values:', len(bc[bc['age'] == '?']))"
   ]
  },
  {
   "cell_type": "code",
   "execution_count": 535,
   "id": "1326fc52-d13a-4bc3-ab62-0e823c531964",
   "metadata": {},
   "outputs": [
    {
     "name": "stdout",
     "output_type": "stream",
     "text": [
      "menopause\n",
      "\n",
      "Unique values: ['premeno' 'ge40' 'lt40']\n",
      "Null values: 0\n",
      "Missing values: 0\n"
     ]
    }
   ],
   "source": [
    "print('menopause\\n')\n",
    "print('Unique values:', bc['menopause'].unique())\n",
    "print('Null values:', bc['menopause'].isnull().sum())\n",
    "print('Missing values:', len(bc[bc['menopause'] == '?']))"
   ]
  },
  {
   "cell_type": "code",
   "execution_count": 536,
   "id": "b6e3db23-fb45-431f-bd1c-03358eea1727",
   "metadata": {},
   "outputs": [
    {
     "name": "stdout",
     "output_type": "stream",
     "text": [
      "tumor-size\n",
      "\n",
      "Unique values: ['30-34' '20-24' '15-19' '0-4' '25-29' '50-54' '10-14' '40-44' '35-39'\n",
      " '5-9' '45-49']\n",
      "Null values: 0\n",
      "Missing values: 0\n"
     ]
    }
   ],
   "source": [
    "print('tumor-size\\n')\n",
    "print('Unique values:', bc['tumor-size'].unique())\n",
    "print('Null values:', bc['tumor-size'].isnull().sum())\n",
    "print('Missing values:', len(bc[bc['tumor-size'] == '?']))"
   ]
  },
  {
   "cell_type": "code",
   "execution_count": 537,
   "id": "ec5fd8fe-05d2-4bfb-b129-4a30d8882dbb",
   "metadata": {},
   "outputs": [
    {
     "name": "stdout",
     "output_type": "stream",
     "text": [
      "inv-nodes\n",
      "\n",
      "Unique values: ['0-2' '6-8' '9-11' '3-5' '15-17' '12-14' '24-26']\n",
      "Null values: 0\n",
      "Missing values: 0\n"
     ]
    }
   ],
   "source": [
    "print('inv-nodes\\n')\n",
    "print('Unique values:', bc['inv-nodes'].unique())\n",
    "print('Null values:', bc['inv-nodes'].isnull().sum())\n",
    "print('Missing values:', len(bc[bc['inv-nodes'] == '?']))"
   ]
  },
  {
   "cell_type": "code",
   "execution_count": 538,
   "id": "3931e63e-bf2f-4f14-918c-0c52dafbb9ba",
   "metadata": {},
   "outputs": [
    {
     "name": "stdout",
     "output_type": "stream",
     "text": [
      "node-caps\n",
      "\n",
      "Unique values: ['no' 'yes' '?']\n",
      "Null values: 0\n",
      "Missing values: 8\n"
     ]
    }
   ],
   "source": [
    "print('node-caps\\n')\n",
    "print('Unique values:', bc['node-caps'].unique())\n",
    "print('Null values:', bc['node-caps'].isnull().sum())\n",
    "print('Missing values:', len(bc[bc['node-caps'] == '?']))"
   ]
  },
  {
   "cell_type": "code",
   "execution_count": 539,
   "id": "0de0c020-6a14-492a-8d11-8744f0394982",
   "metadata": {},
   "outputs": [
    {
     "name": "stdout",
     "output_type": "stream",
     "text": [
      "deg-malig\n",
      "\n",
      "Unique values: [3 2 1]\n",
      "Null values: 0\n",
      "Missing values: 0\n"
     ]
    }
   ],
   "source": [
    "print('deg-malig\\n')\n",
    "print('Unique values:', bc['deg-malig'].unique())\n",
    "print('Null values:', bc['deg-malig'].isnull().sum())\n",
    "print('Missing values:', len(bc[bc['deg-malig'] == '?']))"
   ]
  },
  {
   "cell_type": "code",
   "execution_count": 540,
   "id": "9fe5d746-5cce-4ce5-a26d-05473942788e",
   "metadata": {},
   "outputs": [
    {
     "name": "stdout",
     "output_type": "stream",
     "text": [
      "breast\n",
      "\n",
      "Unique values: ['left' 'right']\n",
      "Null values: 0\n",
      "Missing values: 0\n"
     ]
    }
   ],
   "source": [
    "print('breast\\n')\n",
    "print('Unique values:', bc['breast'].unique())\n",
    "print('Null values:', bc['breast'].isnull().sum())\n",
    "print('Missing values:', len(bc[bc['breast'] == '?']))"
   ]
  },
  {
   "cell_type": "code",
   "execution_count": 541,
   "id": "90c7a99e-8541-499a-baf2-7a635a5be89e",
   "metadata": {},
   "outputs": [
    {
     "name": "stdout",
     "output_type": "stream",
     "text": [
      "breast-quad\n",
      "\n",
      "Unique values: ['left_low' 'right_up' 'left_up' 'right_low' 'central' '?']\n",
      "Null values: 0\n",
      "Missing values: 1\n"
     ]
    }
   ],
   "source": [
    "print('breast-quad\\n')\n",
    "print('Unique values:', bc['breast-quad'].unique())\n",
    "print('Null values:', bc['breast-quad'].isnull().sum())\n",
    "print('Missing values:', len(bc[bc['breast-quad'] == '?']))"
   ]
  },
  {
   "cell_type": "code",
   "execution_count": 542,
   "id": "ac2b863c-50b4-4914-a630-81100e231285",
   "metadata": {},
   "outputs": [
    {
     "name": "stdout",
     "output_type": "stream",
     "text": [
      "irradiat\n",
      "\n",
      "Unique values: ['no' 'yes']\n",
      "Null values: 0\n",
      "Missing values: 0\n"
     ]
    }
   ],
   "source": [
    "print('irradiat\\n')\n",
    "print('Unique values:', bc['irradiat'].unique())\n",
    "print('Null values:', bc['irradiat'].isnull().sum())\n",
    "print('Missing values:', len(bc[bc['irradiat'] == '?']))"
   ]
  },
  {
   "cell_type": "markdown",
   "id": "44f192ed-e5cd-403a-ad46-8f1111824caa",
   "metadata": {},
   "source": [
    "There are no null values in the data, but some entries in `node-caps` and `breast-quad` have missing values, denoted by `?`. We will replace the missing values with the most common occurrence, or the mode, since these variables are not numerical and can't be replaced with the mean or median. Ideally, the values of `age`, `inv-nodes`, and `tumor-size` can be converted into integer ranges, but that is a bit more challenging."
   ]
  },
  {
   "cell_type": "code",
   "execution_count": 543,
   "id": "1227131f-b4a1-4950-9a2d-899ebd6c3dcb",
   "metadata": {},
   "outputs": [
    {
     "name": "stdout",
     "output_type": "stream",
     "text": [
      "Missing values for node-caps: 0\n",
      "Missing values for breast-quad: 0\n"
     ]
    }
   ],
   "source": [
    "bc['node-caps'] = bc['node-caps'].replace('?', bc['node-caps'].mode()[0])\n",
    "bc['breast-quad'] = bc['breast-quad'].replace('?', bc['breast-quad'].mode()[0])\n",
    "\n",
    "print('Missing values for node-caps:', len(bc[bc['node-caps'] == '?']))\n",
    "print('Missing values for breast-quad:', len(bc[bc['breast-quad'] == '?']))"
   ]
  },
  {
   "cell_type": "markdown",
   "id": "2f262f82-2d1f-44cb-9ba8-579fd0e14aa2",
   "metadata": {},
   "source": [
    "We see that these two categories now have no missing values."
   ]
  },
  {
   "cell_type": "markdown",
   "id": "c96dad73-8a8c-4e39-bc55-866d0216e993",
   "metadata": {},
   "source": [
    "Let's visualize the data using univariate analysis:"
   ]
  },
  {
   "cell_type": "code",
   "execution_count": 544,
   "id": "db97f47f-8c34-4833-a135-7c457111b16b",
   "metadata": {},
   "outputs": [
    {
     "data": {
      "image/png": "[encoded data removed]",
      "text/plain": [
       "<Figure size 640x480 with 1 Axes>"
      ]
     },
     "metadata": {},
     "output_type": "display_data"
    }
   ],
   "source": [
    "sns.histplot(data=bc, x='class')\n",
    "plt.title('Distribution of class')\n",
    "plt.xlabel('class')\n",
    "plt.ylabel('Count')\n",
    "plt.show()"
   ]
  },
  {
   "cell_type": "markdown",
   "id": "98ebd397-8c1a-4960-a937-e3e21bdb7c7e",
   "metadata": {},
   "source": [
    "The variable `class` only has two unique values: `no-recurrence-events` and `recurrence-events`. As seen in the histogram, there is not an even distribution, as `no-recurrence-events` is the clear mode."
   ]
  },
  {
   "cell_type": "code",
   "execution_count": 545,
   "id": "50bbf3e9-9362-4f18-ba6d-6623052bf79f",
   "metadata": {},
   "outputs": [
    {
     "data": {
      "image/png": "[encoded data removed]",
      "text/plain": [
       "<Figure size 640x480 with 1 Axes>"
      ]
     },
     "metadata": {},
     "output_type": "display_data"
    }
   ],
   "source": [
    "sns.histplot(data=bc, x='age')\n",
    "plt.title('Distribution of age')\n",
    "plt.xlabel('age')\n",
    "plt.ylabel('Count')\n",
    "plt.show()"
   ]
  },
  {
   "cell_type": "markdown",
   "id": "f613a999-3d4e-44df-b7de-8a8142163ab2",
   "metadata": {},
   "source": [
    "The variable `age` exhibits values that are number ranges, which are more traditional to histograms. However, due to the datatype of the values, they are not ordered, so the x-axis is not either. If ordered, the graph would show a unimodal peak at around 50-59 years old with a bit of a left skew."
   ]
  },
  {
   "cell_type": "code",
   "execution_count": 546,
   "id": "c266c144-399a-4c09-b906-ffe5bfe027a9",
   "metadata": {},
   "outputs": [
    {
     "data": {
      "image/png": "[encoded data removed]",
      "text/plain": [
       "<Figure size 640x480 with 1 Axes>"
      ]
     },
     "metadata": {},
     "output_type": "display_data"
    }
   ],
   "source": [
    "sns.histplot(data=bc, x='menopause')\n",
    "plt.title('Distribution of menopause')\n",
    "plt.xlabel('menopause')\n",
    "plt.ylabel('Count')\n",
    "plt.show()"
   ]
  },
  {
   "cell_type": "markdown",
   "id": "121176ec-0a00-4c6e-b3d2-562ed967fcf9",
   "metadata": {},
   "source": [
    "The variable `menopause` is a categorical variable that has three unique values: `premeno`, `ge40`, and `lt40`. While `premeno` and `ge40` have similar frequencies, that of `lt40` is significantly less."
   ]
  },
  {
   "cell_type": "code",
   "execution_count": 547,
   "id": "de6a5726-58ea-415e-bdea-7d1f999a97d1",
   "metadata": {},
   "outputs": [
    {
     "data": {
      "image/png": "[encoded data removed]",
      "text/plain": [
       "<Figure size 640x480 with 1 Axes>"
      ]
     },
     "metadata": {},
     "output_type": "display_data"
    }
   ],
   "source": [
    "sns.histplot(data=bc, x='tumor-size')\n",
    "plt.title('Distribution of tumor-size')\n",
    "plt.xlabel('tumor-size')\n",
    "plt.ylabel('Count')\n",
    "plt.show()"
   ]
  },
  {
   "cell_type": "markdown",
   "id": "c76970fa-6437-4050-a01a-96b610e6afc3",
   "metadata": {},
   "source": [
    "Similar to `age`, `tumor-size` has values as ranges that are not ordered along the x-axis. If orderedm there would be a unimodal peak at 30-34 (units unclear), and the distribution would appear fairly normal."
   ]
  },
  {
   "cell_type": "code",
   "execution_count": 548,
   "id": "59269944-6638-48a5-81fe-a79a0a7df82d",
   "metadata": {},
   "outputs": [
    {
     "data": {
      "image/png": "[encoded data removed]",
      "text/plain": [
       "<Figure size 640x480 with 1 Axes>"
      ]
     },
     "metadata": {},
     "output_type": "display_data"
    }
   ],
   "source": [
    "sns.histplot(data=bc, x='inv-nodes')\n",
    "plt.title('Distribution of inv-nodes')\n",
    "plt.xlabel('inv-nodes')\n",
    "plt.ylabel('Count')\n",
    "plt.show()"
   ]
  },
  {
   "cell_type": "markdown",
   "id": "81aec94f-e973-4da0-b710-e7720d2d8fbb",
   "metadata": {},
   "source": [
    "The histogram of `inv-nodes` exhibits an extreme right skew and has a mode of 0-2."
   ]
  },
  {
   "cell_type": "code",
   "execution_count": 549,
   "id": "f9beabd3-0e5b-48ff-bbb6-642965edb362",
   "metadata": {},
   "outputs": [
    {
     "data": {
      "image/png": "[encoded data removed]",
      "text/plain": [
       "<Figure size 640x480 with 1 Axes>"
      ]
     },
     "metadata": {},
     "output_type": "display_data"
    }
   ],
   "source": [
    "sns.histplot(data=bc, x='node-caps')\n",
    "plt.title('Distribution of node-caps')\n",
    "plt.xlabel('node-caps')\n",
    "plt.ylabel('Count')\n",
    "plt.show()"
   ]
  },
  {
   "cell_type": "markdown",
   "id": "4c10f133-d774-4f99-898c-85dce415aa62",
   "metadata": {},
   "source": [
    "The variable `node-caps` only has two unique values of yes and no. A large majority of the entries (over 200) have a `node-caps` value of no."
   ]
  },
  {
   "cell_type": "code",
   "execution_count": 550,
   "id": "95db06c4-9907-4790-b943-6b1765ded51f",
   "metadata": {},
   "outputs": [
    {
     "data": {
      "image/png": "[encoded data removed]",
      "text/plain": [
       "<Figure size 640x480 with 1 Axes>"
      ]
     },
     "metadata": {},
     "output_type": "display_data"
    }
   ],
   "source": [
    "sns.histplot(data=bc, x='deg-malig')\n",
    "plt.title('Distribution of deg-malig')\n",
    "plt.xlabel('deg-malig')\n",
    "plt.ylabel('Count')\n",
    "plt.show()"
   ]
  },
  {
   "cell_type": "markdown",
   "id": "30e62f58-beca-4542-92fc-03f17ed60e35",
   "metadata": {},
   "source": [
    "The variable `deg-malig` was the only variable to originally have type `int`. As a result, there are only 3 unique values: 1, 2, and 3. While all 3 degrees have a frequency of over 60. There is a clear mode at 2 degrees, followed by 3, then 1."
   ]
  },
  {
   "cell_type": "code",
   "execution_count": 551,
   "id": "89d1953f-bfc9-4d39-93dd-6b659aad4fce",
   "metadata": {},
   "outputs": [
    {
     "data": {
      "image/png": "[encoded data removed]",
      "text/plain": [
       "<Figure size 640x480 with 1 Axes>"
      ]
     },
     "metadata": {},
     "output_type": "display_data"
    }
   ],
   "source": [
    "sns.histplot(data=bc, x='breast')\n",
    "plt.title('Distribution of breast')\n",
    "plt.xlabel('breast')\n",
    "plt.ylabel('Count')\n",
    "plt.show()"
   ]
  },
  {
   "cell_type": "markdown",
   "id": "ee83a26e-d4b6-4603-ab8d-629062d4dd9c",
   "metadata": {},
   "source": [
    "The variable `breast` denotes the origin of tumor in a specific breast. As expected, the distribution is almost even, although the value `left` is the mode."
   ]
  },
  {
   "cell_type": "code",
   "execution_count": 552,
   "id": "5cd6b279-f635-436e-86b1-ea647bb230ab",
   "metadata": {},
   "outputs": [
    {
     "data": {
      "image/png": "[encoded data removed]",
      "text/plain": [
       "<Figure size 640x480 with 1 Axes>"
      ]
     },
     "metadata": {},
     "output_type": "display_data"
    }
   ],
   "source": [
    "sns.histplot(data=bc, x='breast-quad')\n",
    "plt.title('Distribution of breast-quad')\n",
    "plt.xlabel('breast-quad')\n",
    "plt.ylabel('Count')\n",
    "plt.show()"
   ]
  },
  {
   "cell_type": "markdown",
   "id": "29b46cdb-60a0-4ee4-aa83-63f1f84fb964",
   "metadata": {},
   "source": [
    "The variable `breast-quad` describes the quadrant that the tumor is located in. There are five unique values: `left_up`, `left_low`, `right_up`, `right_low`, and `central`. There appears to be a vast mode for the left side, as `left_up` and `left_low` exhibit frequencies of over 90."
   ]
  },
  {
   "cell_type": "code",
   "execution_count": 553,
   "id": "cafaf150-78c9-436d-9ada-faca2161ddc7",
   "metadata": {},
   "outputs": [
    {
     "data": {
      "image/png": "[encoded data removed]",
      "text/plain": [
       "<Figure size 640x480 with 1 Axes>"
      ]
     },
     "metadata": {},
     "output_type": "display_data"
    }
   ],
   "source": [
    "sns.histplot(data=bc, x='irradiat')\n",
    "plt.title('Distribution of irradiat')\n",
    "plt.xlabel('irradiat')\n",
    "plt.ylabel('Count')\n",
    "plt.show()"
   ]
  },
  {
   "cell_type": "markdown",
   "id": "50f361a0-5a1f-4198-9a67-303d61b73246",
   "metadata": {},
   "source": [
    "The variable `irradiat` only has two unique values of yes and no. A large majority of the entries (over 200) have a `irradiat` value of no."
   ]
  },
  {
   "cell_type": "markdown",
   "id": "f0cb0c0f-d8f5-469c-ae6f-742c2de301b7",
   "metadata": {},
   "source": [
    "Next, a one-hot encoding will be performed on all categorical variables, which are `class`, `age`, `menopause`, `tumor-size`, `inv-nodes`, `node-caps`, `breast`, `breast-quad`, and `irradiat`. "
   ]
  },
  {
   "cell_type": "code",
   "execution_count": 554,
   "id": "8ed17f5b-5937-45d4-8248-b91bb781fdfa",
   "metadata": {},
   "outputs": [
    {
     "data": {
      "text/html": [
       "<div>\n",
       "<style scoped>\n",
       "    .dataframe tbody tr th:only-of-type {\n",
       "        vertical-align: middle;\n",
       "    }\n",
       "\n",
       "    .dataframe tbody tr th {\n",
       "        vertical-align: top;\n",
       "    }\n",
       "\n",
       "    .dataframe thead th {\n",
       "        text-align: right;\n",
       "    }\n",
       "</style>\n",
       "<table border=\"1\" class=\"dataframe\">\n",
       "  <thead>\n",
       "    <tr style=\"text-align: right;\">\n",
       "      <th></th>\n",
       "      <th>deg-malig</th>\n",
       "      <th>class_recurrence-events</th>\n",
       "      <th>age_30-39</th>\n",
       "      <th>age_40-49</th>\n",
       "      <th>age_50-59</th>\n",
       "      <th>age_60-69</th>\n",
       "      <th>age_70-79</th>\n",
       "      <th>menopause_lt40</th>\n",
       "      <th>menopause_premeno</th>\n",
       "      <th>tumor-size_10-14</th>\n",
       "      <th>...</th>\n",
       "      <th>inv-nodes_3-5</th>\n",
       "      <th>inv-nodes_6-8</th>\n",
       "      <th>inv-nodes_9-11</th>\n",
       "      <th>node-caps_yes</th>\n",
       "      <th>breast_right</th>\n",
       "      <th>breast-quad_left_low</th>\n",
       "      <th>breast-quad_left_up</th>\n",
       "      <th>breast-quad_right_low</th>\n",
       "      <th>breast-quad_right_up</th>\n",
       "      <th>irradiat_yes</th>\n",
       "    </tr>\n",
       "  </thead>\n",
       "  <tbody>\n",
       "    <tr>\n",
       "      <th>0</th>\n",
       "      <td>3</td>\n",
       "      <td>False</td>\n",
       "      <td>True</td>\n",
       "      <td>False</td>\n",
       "      <td>False</td>\n",
       "      <td>False</td>\n",
       "      <td>False</td>\n",
       "      <td>False</td>\n",
       "      <td>True</td>\n",
       "      <td>False</td>\n",
       "      <td>...</td>\n",
       "      <td>False</td>\n",
       "      <td>False</td>\n",
       "      <td>False</td>\n",
       "      <td>False</td>\n",
       "      <td>False</td>\n",
       "      <td>True</td>\n",
       "      <td>False</td>\n",
       "      <td>False</td>\n",
       "      <td>False</td>\n",
       "      <td>False</td>\n",
       "    </tr>\n",
       "    <tr>\n",
       "      <th>1</th>\n",
       "      <td>2</td>\n",
       "      <td>False</td>\n",
       "      <td>False</td>\n",
       "      <td>True</td>\n",
       "      <td>False</td>\n",
       "      <td>False</td>\n",
       "      <td>False</td>\n",
       "      <td>False</td>\n",
       "      <td>True</td>\n",
       "      <td>False</td>\n",
       "      <td>...</td>\n",
       "      <td>False</td>\n",
       "      <td>False</td>\n",
       "      <td>False</td>\n",
       "      <td>False</td>\n",
       "      <td>True</td>\n",
       "      <td>False</td>\n",
       "      <td>False</td>\n",
       "      <td>False</td>\n",
       "      <td>True</td>\n",
       "      <td>False</td>\n",
       "    </tr>\n",
       "    <tr>\n",
       "      <th>2</th>\n",
       "      <td>2</td>\n",
       "      <td>False</td>\n",
       "      <td>False</td>\n",
       "      <td>True</td>\n",
       "      <td>False</td>\n",
       "      <td>False</td>\n",
       "      <td>False</td>\n",
       "      <td>False</td>\n",
       "      <td>True</td>\n",
       "      <td>False</td>\n",
       "      <td>...</td>\n",
       "      <td>False</td>\n",
       "      <td>False</td>\n",
       "      <td>False</td>\n",
       "      <td>False</td>\n",
       "      <td>False</td>\n",
       "      <td>True</td>\n",
       "      <td>False</td>\n",
       "      <td>False</td>\n",
       "      <td>False</td>\n",
       "      <td>False</td>\n",
       "    </tr>\n",
       "    <tr>\n",
       "      <th>3</th>\n",
       "      <td>2</td>\n",
       "      <td>False</td>\n",
       "      <td>False</td>\n",
       "      <td>False</td>\n",
       "      <td>False</td>\n",
       "      <td>True</td>\n",
       "      <td>False</td>\n",
       "      <td>False</td>\n",
       "      <td>False</td>\n",
       "      <td>False</td>\n",
       "      <td>...</td>\n",
       "      <td>False</td>\n",
       "      <td>False</td>\n",
       "      <td>False</td>\n",
       "      <td>False</td>\n",
       "      <td>True</td>\n",
       "      <td>False</td>\n",
       "      <td>True</td>\n",
       "      <td>False</td>\n",
       "      <td>False</td>\n",
       "      <td>False</td>\n",
       "    </tr>\n",
       "    <tr>\n",
       "      <th>4</th>\n",
       "      <td>2</td>\n",
       "      <td>False</td>\n",
       "      <td>False</td>\n",
       "      <td>True</td>\n",
       "      <td>False</td>\n",
       "      <td>False</td>\n",
       "      <td>False</td>\n",
       "      <td>False</td>\n",
       "      <td>True</td>\n",
       "      <td>False</td>\n",
       "      <td>...</td>\n",
       "      <td>False</td>\n",
       "      <td>False</td>\n",
       "      <td>False</td>\n",
       "      <td>False</td>\n",
       "      <td>True</td>\n",
       "      <td>False</td>\n",
       "      <td>False</td>\n",
       "      <td>True</td>\n",
       "      <td>False</td>\n",
       "      <td>False</td>\n",
       "    </tr>\n",
       "    <tr>\n",
       "      <th>...</th>\n",
       "      <td>...</td>\n",
       "      <td>...</td>\n",
       "      <td>...</td>\n",
       "      <td>...</td>\n",
       "      <td>...</td>\n",
       "      <td>...</td>\n",
       "      <td>...</td>\n",
       "      <td>...</td>\n",
       "      <td>...</td>\n",
       "      <td>...</td>\n",
       "      <td>...</td>\n",
       "      <td>...</td>\n",
       "      <td>...</td>\n",
       "      <td>...</td>\n",
       "      <td>...</td>\n",
       "      <td>...</td>\n",
       "      <td>...</td>\n",
       "      <td>...</td>\n",
       "      <td>...</td>\n",
       "      <td>...</td>\n",
       "      <td>...</td>\n",
       "    </tr>\n",
       "    <tr>\n",
       "      <th>267</th>\n",
       "      <td>2</td>\n",
       "      <td>True</td>\n",
       "      <td>True</td>\n",
       "      <td>False</td>\n",
       "      <td>False</td>\n",
       "      <td>False</td>\n",
       "      <td>False</td>\n",
       "      <td>False</td>\n",
       "      <td>True</td>\n",
       "      <td>False</td>\n",
       "      <td>...</td>\n",
       "      <td>False</td>\n",
       "      <td>False</td>\n",
       "      <td>False</td>\n",
       "      <td>False</td>\n",
       "      <td>False</td>\n",
       "      <td>False</td>\n",
       "      <td>True</td>\n",
       "      <td>False</td>\n",
       "      <td>False</td>\n",
       "      <td>False</td>\n",
       "    </tr>\n",
       "    <tr>\n",
       "      <th>268</th>\n",
       "      <td>3</td>\n",
       "      <td>True</td>\n",
       "      <td>True</td>\n",
       "      <td>False</td>\n",
       "      <td>False</td>\n",
       "      <td>False</td>\n",
       "      <td>False</td>\n",
       "      <td>False</td>\n",
       "      <td>True</td>\n",
       "      <td>False</td>\n",
       "      <td>...</td>\n",
       "      <td>False</td>\n",
       "      <td>False</td>\n",
       "      <td>False</td>\n",
       "      <td>False</td>\n",
       "      <td>False</td>\n",
       "      <td>False</td>\n",
       "      <td>True</td>\n",
       "      <td>False</td>\n",
       "      <td>False</td>\n",
       "      <td>True</td>\n",
       "    </tr>\n",
       "    <tr>\n",
       "      <th>269</th>\n",
       "      <td>1</td>\n",
       "      <td>True</td>\n",
       "      <td>False</td>\n",
       "      <td>False</td>\n",
       "      <td>False</td>\n",
       "      <td>True</td>\n",
       "      <td>False</td>\n",
       "      <td>False</td>\n",
       "      <td>False</td>\n",
       "      <td>False</td>\n",
       "      <td>...</td>\n",
       "      <td>False</td>\n",
       "      <td>False</td>\n",
       "      <td>False</td>\n",
       "      <td>False</td>\n",
       "      <td>True</td>\n",
       "      <td>False</td>\n",
       "      <td>True</td>\n",
       "      <td>False</td>\n",
       "      <td>False</td>\n",
       "      <td>False</td>\n",
       "    </tr>\n",
       "    <tr>\n",
       "      <th>270</th>\n",
       "      <td>3</td>\n",
       "      <td>True</td>\n",
       "      <td>False</td>\n",
       "      <td>True</td>\n",
       "      <td>False</td>\n",
       "      <td>False</td>\n",
       "      <td>False</td>\n",
       "      <td>False</td>\n",
       "      <td>False</td>\n",
       "      <td>False</td>\n",
       "      <td>...</td>\n",
       "      <td>True</td>\n",
       "      <td>False</td>\n",
       "      <td>False</td>\n",
       "      <td>False</td>\n",
       "      <td>False</td>\n",
       "      <td>True</td>\n",
       "      <td>False</td>\n",
       "      <td>False</td>\n",
       "      <td>False</td>\n",
       "      <td>False</td>\n",
       "    </tr>\n",
       "    <tr>\n",
       "      <th>271</th>\n",
       "      <td>3</td>\n",
       "      <td>True</td>\n",
       "      <td>False</td>\n",
       "      <td>False</td>\n",
       "      <td>True</td>\n",
       "      <td>False</td>\n",
       "      <td>False</td>\n",
       "      <td>False</td>\n",
       "      <td>False</td>\n",
       "      <td>False</td>\n",
       "      <td>...</td>\n",
       "      <td>True</td>\n",
       "      <td>False</td>\n",
       "      <td>False</td>\n",
       "      <td>False</td>\n",
       "      <td>False</td>\n",
       "      <td>True</td>\n",
       "      <td>False</td>\n",
       "      <td>False</td>\n",
       "      <td>False</td>\n",
       "      <td>False</td>\n",
       "    </tr>\n",
       "  </tbody>\n",
       "</table>\n",
       "<p>272 rows × 32 columns</p>\n",
       "</div>"
      ],
      "text/plain": [
       "     deg-malig  class_recurrence-events  age_30-39  age_40-49  age_50-59  \\\n",
       "0            3                    False       True      False      False   \n",
       "1            2                    False      False       True      False   \n",
       "2            2                    False      False       True      False   \n",
       "3            2                    False      False      False      False   \n",
       "4            2                    False      False       True      False   \n",
       "..         ...                      ...        ...        ...        ...   \n",
       "267          2                     True       True      False      False   \n",
       "268          3                     True       True      False      False   \n",
       "269          1                     True      False      False      False   \n",
       "270          3                     True      False       True      False   \n",
       "271          3                     True      False      False       True   \n",
       "\n",
       "     age_60-69  age_70-79  menopause_lt40  menopause_premeno  \\\n",
       "0        False      False           False               True   \n",
       "1        False      False           False               True   \n",
       "2        False      False           False               True   \n",
       "3         True      False           False              False   \n",
       "4        False      False           False               True   \n",
       "..         ...        ...             ...                ...   \n",
       "267      False      False           False               True   \n",
       "268      False      False           False               True   \n",
       "269       True      False           False              False   \n",
       "270      False      False           False              False   \n",
       "271      False      False           False              False   \n",
       "\n",
       "     tumor-size_10-14  ...  inv-nodes_3-5  inv-nodes_6-8  inv-nodes_9-11  \\\n",
       "0               False  ...          False          False           False   \n",
       "1               False  ...          False          False           False   \n",
       "2               False  ...          False          False           False   \n",
       "3               False  ...          False          False           False   \n",
       "4               False  ...          False          False           False   \n",
       "..                ...  ...            ...            ...             ...   \n",
       "267             False  ...          False          False           False   \n",
       "268             False  ...          False          False           False   \n",
       "269             False  ...          False          False           False   \n",
       "270             False  ...           True          False           False   \n",
       "271             False  ...           True          False           False   \n",
       "\n",
       "     node-caps_yes  breast_right  breast-quad_left_low  breast-quad_left_up  \\\n",
       "0            False         False                  True                False   \n",
       "1            False          True                 False                False   \n",
       "2            False         False                  True                False   \n",
       "3            False          True                 False                 True   \n",
       "4            False          True                 False                False   \n",
       "..             ...           ...                   ...                  ...   \n",
       "267          False         False                 False                 True   \n",
       "268          False         False                 False                 True   \n",
       "269          False          True                 False                 True   \n",
       "270          False         False                  True                False   \n",
       "271          False         False                  True                False   \n",
       "\n",
       "     breast-quad_right_low  breast-quad_right_up  irradiat_yes  \n",
       "0                    False                 False         False  \n",
       "1                    False                  True         False  \n",
       "2                    False                 False         False  \n",
       "3                    False                 False         False  \n",
       "4                     True                 False         False  \n",
       "..                     ...                   ...           ...  \n",
       "267                  False                 False         False  \n",
       "268                  False                 False          True  \n",
       "269                  False                 False         False  \n",
       "270                  False                 False         False  \n",
       "271                  False                 False         False  \n",
       "\n",
       "[272 rows x 32 columns]"
      ]
     },
     "execution_count": 554,
     "metadata": {},
     "output_type": "execute_result"
    }
   ],
   "source": [
    "bc = pd.get_dummies(bc, columns=['class', 'age', 'menopause', 'tumor-size', 'inv-nodes', 'node-caps', 'breast', 'breast-quad', 'irradiat'], drop_first=True)\n",
    "bc"
   ]
  },
  {
   "cell_type": "markdown",
   "id": "51aff330-822c-419b-92d1-4b910c5a2af0",
   "metadata": {},
   "source": [
    "## Part 2"
   ]
  },
  {
   "cell_type": "code",
   "execution_count": 555,
   "id": "b37a5b9c-0266-4deb-b9a4-ecdfb795c774",
   "metadata": {},
   "outputs": [],
   "source": [
    "import sklearn\n",
    "\n",
    "X = bc.drop('class_recurrence-events', axis=1)\n",
    "y = bc['class_recurrence-events']"
   ]
  },
  {
   "cell_type": "markdown",
   "id": "930b8744-f6ce-40a9-9431-6ed72977bf0d",
   "metadata": {},
   "source": [
    "The data is split into training and test sets:"
   ]
  },
  {
   "cell_type": "code",
   "execution_count": 556,
   "id": "25b5bbdb-909e-4d6e-9442-685e9fe21e21",
   "metadata": {},
   "outputs": [],
   "source": [
    "from sklearn.model_selection import train_test_split\n",
    "\n",
    "X_train, X_test, y_train, y_test = train_test_split(X, y, test_size=0.3, random_state=1)"
   ]
  },
  {
   "cell_type": "markdown",
   "id": "327ef415-6d00-4baf-ad0b-d56b33663370",
   "metadata": {},
   "source": [
    "### K-Nearest Neighbor Classifier"
   ]
  },
  {
   "cell_type": "code",
   "execution_count": 557,
   "id": "d18bde03-cf19-4bea-abf3-bf3e4bb6f20f",
   "metadata": {},
   "outputs": [
    {
     "name": "stdout",
     "output_type": "stream",
     "text": [
      "Best parameters: {'n_neighbors': 18}\n",
      "Best score: 0.7157894736842105\n",
      "Performance on TEST\n",
      "*******************\n",
      "              precision    recall  f1-score   support\n",
      "\n",
      "       False       0.72      1.00      0.84        59\n",
      "        True       0.00      0.00      0.00        23\n",
      "\n",
      "    accuracy                           0.72        82\n",
      "   macro avg       0.36      0.50      0.42        82\n",
      "weighted avg       0.52      0.72      0.60        82\n",
      "\n",
      "Performance on TRAIN\n",
      "********************\n",
      "              precision    recall  f1-score   support\n",
      "\n",
      "       False       0.71      1.00      0.83       132\n",
      "        True       1.00      0.07      0.13        58\n",
      "\n",
      "    accuracy                           0.72       190\n",
      "   macro avg       0.85      0.53      0.48       190\n",
      "weighted avg       0.80      0.72      0.62       190\n",
      "\n"
     ]
    },
    {
     "name": "stderr",
     "output_type": "stream",
     "text": [
      "/usr/local/lib/python3.11/site-packages/sklearn/metrics/_classification.py:1471: UndefinedMetricWarning: Precision and F-score are ill-defined and being set to 0.0 in labels with no predicted samples. Use `zero_division` parameter to control this behavior.\n",
      "  _warn_prf(average, modifier, msg_start, len(result))\n",
      "/usr/local/lib/python3.11/site-packages/sklearn/metrics/_classification.py:1471: UndefinedMetricWarning: Precision and F-score are ill-defined and being set to 0.0 in labels with no predicted samples. Use `zero_division` parameter to control this behavior.\n",
      "  _warn_prf(average, modifier, msg_start, len(result))\n",
      "/usr/local/lib/python3.11/site-packages/sklearn/metrics/_classification.py:1471: UndefinedMetricWarning: Precision and F-score are ill-defined and being set to 0.0 in labels with no predicted samples. Use `zero_division` parameter to control this behavior.\n",
      "  _warn_prf(average, modifier, msg_start, len(result))\n"
     ]
    }
   ],
   "source": [
    "from sklearn import neighbors, model_selection, metrics\n",
    "\n",
    "param_grid = {\"n_neighbors\": np.arange(1, 100)}\n",
    "\n",
    "knn_search_accuracy = neighbors.KNeighborsClassifier()\n",
    "\n",
    "knn_gscv = model_selection.GridSearchCV(knn_search_accuracy, param_grid, cv=5)\n",
    "knn_gscv.fit(X_train, y_train)\n",
    "\n",
    "knn_model = knn_gscv.best_estimator_\n",
    "\n",
    "print(\"Best parameters:\", knn_gscv.best_params_)\n",
    "print(\"Best score:\", knn_gscv.best_score_)\n",
    "\n",
    "print(f\"Performance on TEST\\n*******************\\n{metrics.classification_report(y_test, knn_model.predict(X_test))}\")\n",
    "print(f\"Performance on TRAIN\\n********************\\n{metrics.classification_report(y_train, knn_model.predict(X_train))}\")"
   ]
  },
  {
   "cell_type": "markdown",
   "id": "6f4b1516-19ae-49ab-b8e6-c26dd9e80933",
   "metadata": {},
   "source": [
    "### Logistic Regression"
   ]
  },
  {
   "cell_type": "code",
   "execution_count": 558,
   "id": "d76848ea-49e6-4330-ba1e-d73087ab5936",
   "metadata": {},
   "outputs": [
    {
     "name": "stdout",
     "output_type": "stream",
     "text": [
      "Performance on TEST\n",
      "*******************\n",
      "              precision    recall  f1-score   support\n",
      "\n",
      "       False       0.73      0.88      0.80        59\n",
      "        True       0.36      0.17      0.24        23\n",
      "\n",
      "    accuracy                           0.68        82\n",
      "   macro avg       0.55      0.53      0.52        82\n",
      "weighted avg       0.63      0.68      0.64        82\n",
      "\n",
      "Performance on TRAIN\n",
      "********************\n",
      "              precision    recall  f1-score   support\n",
      "\n",
      "       False       0.76      0.92      0.83       132\n",
      "        True       0.63      0.33      0.43        58\n",
      "\n",
      "    accuracy                           0.74       190\n",
      "   macro avg       0.69      0.62      0.63       190\n",
      "weighted avg       0.72      0.74      0.71       190\n",
      "\n"
     ]
    }
   ],
   "source": [
    "from sklearn import linear_model, metrics\n",
    "\n",
    "model = linear_model.LogisticRegression(random_state=1, max_iter=1000).fit(X_train, y_train)\n",
    "\n",
    "print(f\"Performance on TEST\\n*******************\\n{metrics.classification_report(y_test, model.predict(X_test))}\")\n",
    "print(f\"Performance on TRAIN\\n********************\\n{metrics.classification_report(y_train, model.predict(X_train))}\")"
   ]
  },
  {
   "cell_type": "markdown",
   "id": "cee18ad3-1775-4f11-b2b1-9090dc144872",
   "metadata": {},
   "source": [
    "### Naive Bayes"
   ]
  },
  {
   "cell_type": "code",
   "execution_count": 559,
   "id": "27fe80dd-46b9-4699-a22c-8dff7d7b149a",
   "metadata": {},
   "outputs": [
    {
     "name": "stdout",
     "output_type": "stream",
     "text": [
      "Performance on TEST\n",
      "*******************\n",
      "              precision    recall  f1-score   support\n",
      "\n",
      "       False       0.92      0.20      0.33        59\n",
      "        True       0.32      0.96      0.48        23\n",
      "\n",
      "    accuracy                           0.41        82\n",
      "   macro avg       0.62      0.58      0.41        82\n",
      "weighted avg       0.75      0.41      0.37        82\n",
      "\n",
      "Performance on TRAIN\n",
      "********************\n",
      "              precision    recall  f1-score   support\n",
      "\n",
      "       False       1.00      0.20      0.34       132\n",
      "        True       0.36      1.00      0.52        58\n",
      "\n",
      "    accuracy                           0.45       190\n",
      "   macro avg       0.68      0.60      0.43       190\n",
      "weighted avg       0.80      0.45      0.40       190\n",
      "\n"
     ]
    }
   ],
   "source": [
    "from sklearn import naive_bayes, metrics\n",
    "\n",
    "gnb = naive_bayes.GaussianNB()\n",
    "gnb.fit(X_train, y_train)\n",
    "\n",
    "print(f\"Performance on TEST\\n*******************\\n{metrics.classification_report(y_test, gnb.predict(X_test))}\")\n",
    "print(f\"Performance on TRAIN\\n********************\\n{metrics.classification_report(y_train, gnb.predict(X_train))}\")"
   ]
  },
  {
   "cell_type": "code",
   "execution_count": null,
   "id": "db374ecb-a7dd-4c99-a2c4-11cd21a8608f",
   "metadata": {},
   "outputs": [],
   "source": []
  }
 ],
 "metadata": {
  "kernelspec": {
   "display_name": "Python 3 (ipykernel)",
   "language": "python",
   "name": "python3"
  },
  "language_info": {
   "codemirror_mode": {
    "name": "ipython",
    "version": 3
   },
   "file_extension": ".py",
   "mimetype": "text/x-python",
   "name": "python",
   "nbconvert_exporter": "python",
   "pygments_lexer": "ipython3",
   "version": "3.11.1"
  }
 },
 "nbformat": 4,
 "nbformat_minor": 5
}
